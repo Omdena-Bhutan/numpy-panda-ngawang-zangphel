{
  "metadata": {
    "kernelspec": {
      "name": "python",
      "display_name": "Python (Pyodide)",
      "language": "python"
    },
    "language_info": {
      "codemirror_mode": {
        "name": "python",
        "version": 3
      },
      "file_extension": ".py",
      "mimetype": "text/x-python",
      "name": "python",
      "nbconvert_exporter": "python",
      "pygments_lexer": "ipython3",
      "version": "3.8"
    },
    "colab": {
      "provenance": [],
      "include_colab_link": true
    }
  },
  "nbformat_minor": 0,
  "nbformat": 4,
  "cells": [
    {
      "cell_type": "markdown",
      "metadata": {
        "id": "view-in-github",
        "colab_type": "text"
      },
      "source": [
        "<a href=\"https://colab.research.google.com/github/Omdena-Bhutan/numpy-panda-ngawang-zangphel/blob/main/Assignment.ipynb\" target=\"_parent\"><img src=\"https://colab.research.google.com/assets/colab-badge.svg\" alt=\"Open In Colab\"/></a>"
      ]
    },
    {
      "cell_type": "code",
      "source": [
        "# Import the libraries\n",
        "import numpy as np"
      ],
      "metadata": {
        "id": "sgXKjHhu6TIW"
      },
      "execution_count": 13,
      "outputs": []
    },
    {
      "cell_type": "markdown",
      "source": [
        "# Numpy Array"
      ],
      "metadata": {
        "id": "eMxOPUGD59ue"
      }
    },
    {
      "cell_type": "markdown",
      "source": [
        "## Quiz on 1D Numpy Array"
      ],
      "metadata": {
        "id": "_RmtDpYk6MHp"
      }
    },
    {
      "cell_type": "code",
      "source": [
        "# Write your code below and press Shift+Enter to execute\n",
        "u = np.array([1, 0])\n",
        "v = np.array([0, 1])\n",
        "print(u -v)\n"
      ],
      "metadata": {
        "colab": {
          "base_uri": "https://localhost:8080/"
        },
        "id": "sWuUWTy_58S_",
        "outputId": "324137b0-f612-402f-9a96-392bd6d6bbdd"
      },
      "execution_count": 15,
      "outputs": [
        {
          "output_type": "stream",
          "name": "stdout",
          "text": [
            "[ 1 -1]\n"
          ]
        }
      ]
    },
    {
      "cell_type": "markdown",
      "source": [
        "Multiply the numpy array z with -2:"
      ],
      "metadata": {
        "id": "dZ2PM2pS6itf"
      }
    },
    {
      "cell_type": "code",
      "source": [
        "z = np.array([2, 4])\n",
        "print(z * (-2))"
      ],
      "metadata": {
        "colab": {
          "base_uri": "https://localhost:8080/"
        },
        "id": "tBhJ04ia6j7m",
        "outputId": "475119ae-f120-468f-82ff-8b57df9dae58"
      },
      "execution_count": 16,
      "outputs": [
        {
          "output_type": "stream",
          "name": "stdout",
          "text": [
            "[-4 -8]\n"
          ]
        }
      ]
    },
    {
      "cell_type": "markdown",
      "source": [
        "Consider the list <code>\\[1, 2, 3, 4, 5]</code> and <code>\\[1, 0, 1, 0, 1]</code>. Cast both lists to a numpy array then multiply them together:\n"
      ],
      "metadata": {
        "id": "lKRoXmVD65ev"
      }
    },
    {
      "cell_type": "code",
      "source": [
        "x = np.array([1, 2, 3, 4, 5])\n",
        "y = np.array([1, 0, 1, 0, 1])\n",
        "print(x * y)"
      ],
      "metadata": {
        "colab": {
          "base_uri": "https://localhost:8080/"
        },
        "id": "q9by9ttO69xv",
        "outputId": "b7f307bb-9e71-41d8-8e0f-c778e8e9840f"
      },
      "execution_count": 17,
      "outputs": [
        {
          "output_type": "stream",
          "name": "stdout",
          "text": [
            "[1 0 3 0 5]\n"
          ]
        }
      ]
    },
    {
      "cell_type": "markdown",
      "source": [
        "# 2D Numpy"
      ],
      "metadata": {
        "id": "4dS-VbNgW5_A"
      }
    },
    {
      "cell_type": "markdown",
      "source": [
        "<h2>Quiz on 2D Numpy Array</h2>\n"
      ],
      "metadata": {
        "id": "n6GwkTI4W5_c"
      }
    },
    {
      "cell_type": "markdown",
      "source": [
        "Consider the following list <code>a</code>, convert it to Numpy Array.\n"
      ],
      "metadata": {
        "id": "cqH6M6WyW5_d"
      }
    },
    {
      "cell_type": "code",
      "source": [
        "# Write your code below and press Shift+Enter to execute\n",
        "\n",
        "a = [[1, 2, 3, 4], [5, 6, 7, 8], [9, 10, 11, 12]]\n",
        "npArray = np.array(a)\n",
        "print(npArray)"
      ],
      "metadata": {
        "trusted": true,
        "id": "gVjD92mwW5_d",
        "colab": {
          "base_uri": "https://localhost:8080/"
        },
        "outputId": "43d53474-28e3-49ae-9483-5a0516d7bd69"
      },
      "outputs": [
        {
          "output_type": "stream",
          "name": "stdout",
          "text": [
            "[[ 1  2  3  4]\n",
            " [ 5  6  7  8]\n",
            " [ 9 10 11 12]]\n"
          ]
        }
      ],
      "execution_count": 9
    },
    {
      "cell_type": "markdown",
      "source": [
        "Calculate the numpy array size.\n"
      ],
      "metadata": {
        "id": "1fhIlKxkW5_d"
      }
    },
    {
      "cell_type": "code",
      "source": [
        "# Write your code below and press Shift+Enter to execute\n",
        "print(npArray.size)"
      ],
      "metadata": {
        "trusted": true,
        "id": "MpssFBoBW5_e",
        "colab": {
          "base_uri": "https://localhost:8080/"
        },
        "outputId": "d4c94fe0-e86c-42e3-843d-e88fe2f546ed"
      },
      "outputs": [
        {
          "output_type": "stream",
          "name": "stdout",
          "text": [
            "12\n"
          ]
        }
      ],
      "execution_count": 10
    },
    {
      "cell_type": "markdown",
      "source": [
        "Access the element on the first row and first and second columns.\n"
      ],
      "metadata": {
        "id": "uVtgLt8aW5_e"
      }
    },
    {
      "cell_type": "code",
      "source": [
        "# Write your code below and press Shift+Enter to execute\n",
        "print(npArray[0][0:2])"
      ],
      "metadata": {
        "trusted": true,
        "id": "tO4YRZRLW5_f",
        "colab": {
          "base_uri": "https://localhost:8080/"
        },
        "outputId": "76654ce1-c304-4197-e87c-556ceb242abf"
      },
      "outputs": [
        {
          "output_type": "stream",
          "name": "stdout",
          "text": [
            "[1 2]\n"
          ]
        }
      ],
      "execution_count": 11
    },
    {
      "cell_type": "markdown",
      "source": [
        "Perform matrix multiplication with the numpy arrays <code>A</code> and <code>B</code>.\n"
      ],
      "metadata": {
        "id": "sKuckQDaW5_f"
      }
    },
    {
      "cell_type": "code",
      "source": [
        "# Write your code below and press Shift+Enter to execute\n",
        "\n",
        "B = np.array([[0, 1], [1, 0], [1, 1], [-1, 0]])\n",
        "matrixProd = np.dot(npArray, B)\n",
        "print(matrixProd)"
      ],
      "metadata": {
        "trusted": true,
        "id": "XyHCe2EEW5_f",
        "colab": {
          "base_uri": "https://localhost:8080/"
        },
        "outputId": "624f566d-90c4-47bc-c491-3292f4810160"
      },
      "outputs": [
        {
          "output_type": "stream",
          "name": "stdout",
          "text": [
            "[[ 1  4]\n",
            " [ 5 12]\n",
            " [ 9 20]]\n"
          ]
        }
      ],
      "execution_count": 12
    },
    {
      "cell_type": "code",
      "source": [],
      "metadata": {
        "trusted": true,
        "id": "CyBTg5geW5_i"
      },
      "outputs": [],
      "execution_count": null
    }
  ]
}